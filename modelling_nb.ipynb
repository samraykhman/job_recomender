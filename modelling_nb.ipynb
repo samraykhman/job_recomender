{
 "cells": [
  {
   "cell_type": "code",
   "execution_count": 179,
   "metadata": {},
   "outputs": [],
   "source": [
    "import pandas as pd\n",
    "import numpy as np\n",
    "\n",
    "from imblearn.over_sampling import SMOTE\n",
    "from imblearn.over_sampling import ADASYN\n",
    "\n",
    "from sklearn.dummy import DummyClassifier\n",
    "from sklearn.model_selection import train_test_split\n",
    "from sklearn.preprocessing import LabelEncoder\n",
    "from sklearn.naive_bayes import MultinomialNB\n",
    "from sklearn.ensemble import RandomForestClassifier\n",
    "from sklearn.metrics import accuracy_score, confusion_matrix, recall_score, plot_confusion_matrix, precision_score, f1_score\n",
    "from sklearn.feature_extraction.text import TfidfVectorizer\n",
    "from sklearn.model_selection import GridSearchCV\n",
    "from sklearn.svm import SVC\n",
    "\n",
    "import xgboost as xgb\n",
    "from xgboost import plot_importance\n",
    "\n",
    "import string\n",
    "import nltk\n",
    "from nltk.corpus import stopwords\n",
    "from nltk import word_tokenize\n",
    "\n",
    "from wordcloud import WordCloud, STOPWORDS\n",
    "\n",
    "import pickle\n",
    "\n",
    "import warnings\n",
    "warnings.simplefilter('ignore')\n",
    "\n",
    "import matplotlib.pyplot as plt\n",
    "import seaborn as sns\n",
    "%matplotlib inline"
   ]
  },
  {
   "cell_type": "code",
   "execution_count": 12,
   "metadata": {},
   "outputs": [],
   "source": [
    "df = pd.read_csv('csv_files/job_post_dataframe.csv', index_col=0)"
   ]
  },
  {
   "cell_type": "code",
   "execution_count": 11,
   "metadata": {
    "collapsed": true
   },
   "outputs": [
    {
     "data": {
      "text/html": [
       "<div>\n",
       "<style scoped>\n",
       "    .dataframe tbody tr th:only-of-type {\n",
       "        vertical-align: middle;\n",
       "    }\n",
       "\n",
       "    .dataframe tbody tr th {\n",
       "        vertical-align: top;\n",
       "    }\n",
       "\n",
       "    .dataframe thead th {\n",
       "        text-align: right;\n",
       "    }\n",
       "</style>\n",
       "<table border=\"1\" class=\"dataframe\">\n",
       "  <thead>\n",
       "    <tr style=\"text-align: right;\">\n",
       "      <th></th>\n",
       "      <th>languages</th>\n",
       "      <th>overview</th>\n",
       "      <th>position_title</th>\n",
       "      <th>clean_description</th>\n",
       "      <th>target</th>\n",
       "    </tr>\n",
       "  </thead>\n",
       "  <tbody>\n",
       "    <tr>\n",
       "      <td>1</td>\n",
       "      <td>['amazon-web-services', 'python', 'docker', 'k...</td>\n",
       "      <td>Paige is a software company helping pathologis...</td>\n",
       "      <td>Senior Software Engineer Backend Cloud Computing</td>\n",
       "      <td>Job type Full time Experience level Senior Rol...</td>\n",
       "      <td>1</td>\n",
       "    </tr>\n",
       "    <tr>\n",
       "      <td>3</td>\n",
       "      <td>['python', 'javascript', 'reactjs', 'django', ...</td>\n",
       "      <td>About UsSimon Data was founded in by a team of...</td>\n",
       "      <td>Engineering Manager</td>\n",
       "      <td>Job type Full time Experience level Senior Man...</td>\n",
       "      <td>1</td>\n",
       "    </tr>\n",
       "    <tr>\n",
       "      <td>4</td>\n",
       "      <td>['node.js', 'kubernetes', 'microservices', 'ty...</td>\n",
       "      <td>Who is MANTL MANTL is a fast growing NYC based...</td>\n",
       "      <td>Senior Backend Engineer NYC Or Remote</td>\n",
       "      <td>Job type Full time Experience level Mid Level ...</td>\n",
       "      <td>0</td>\n",
       "    </tr>\n",
       "    <tr>\n",
       "      <td>5</td>\n",
       "      <td>['api', 'postgresql', 'scala', 'amazon-web-ser...</td>\n",
       "      <td>As a SIMON Backend Engineer you will play an i...</td>\n",
       "      <td>Backend Engineer</td>\n",
       "      <td>Job type Full time Experience level Mid Level ...</td>\n",
       "      <td>0</td>\n",
       "    </tr>\n",
       "    <tr>\n",
       "      <td>6</td>\n",
       "      <td>['go', 'ruby', 'ruby-on-rails', 'redis', 'post...</td>\n",
       "      <td>Gravity is looking for passionate software eng...</td>\n",
       "      <td>Software Engineer Backend NYC/LA</td>\n",
       "      <td>Job type Full time Experience level Junior Mid...</td>\n",
       "      <td>0</td>\n",
       "    </tr>\n",
       "  </tbody>\n",
       "</table>\n",
       "</div>"
      ],
      "text/plain": [
       "                                           languages  \\\n",
       "1  ['amazon-web-services', 'python', 'docker', 'k...   \n",
       "3  ['python', 'javascript', 'reactjs', 'django', ...   \n",
       "4  ['node.js', 'kubernetes', 'microservices', 'ty...   \n",
       "5  ['api', 'postgresql', 'scala', 'amazon-web-ser...   \n",
       "6  ['go', 'ruby', 'ruby-on-rails', 'redis', 'post...   \n",
       "\n",
       "                                            overview  \\\n",
       "1  Paige is a software company helping pathologis...   \n",
       "3  About UsSimon Data was founded in by a team of...   \n",
       "4  Who is MANTL MANTL is a fast growing NYC based...   \n",
       "5  As a SIMON Backend Engineer you will play an i...   \n",
       "6  Gravity is looking for passionate software eng...   \n",
       "\n",
       "                                     position_title  \\\n",
       "1  Senior Software Engineer Backend Cloud Computing   \n",
       "3                               Engineering Manager   \n",
       "4             Senior Backend Engineer NYC Or Remote   \n",
       "5                                  Backend Engineer   \n",
       "6                  Software Engineer Backend NYC/LA   \n",
       "\n",
       "                                   clean_description  target  \n",
       "1  Job type Full time Experience level Senior Rol...       1  \n",
       "3  Job type Full time Experience level Senior Man...       1  \n",
       "4  Job type Full time Experience level Mid Level ...       0  \n",
       "5  Job type Full time Experience level Mid Level ...       0  \n",
       "6  Job type Full time Experience level Junior Mid...       0  "
      ]
     },
     "execution_count": 11,
     "metadata": {},
     "output_type": "execute_result"
    }
   ],
   "source": [
    "df.head()"
   ]
  },
  {
   "cell_type": "code",
   "execution_count": 13,
   "metadata": {},
   "outputs": [],
   "source": [
    "# appear to have been nan values, so i dropped the rows with them\n",
    "df.dropna(subset=['overview'], inplace=True)"
   ]
  },
  {
   "cell_type": "code",
   "execution_count": 14,
   "metadata": {},
   "outputs": [],
   "source": [
    "# specifying feature and target variables\n",
    "X = df['overview']\n",
    "y = df['target']"
   ]
  },
  {
   "cell_type": "code",
   "execution_count": 15,
   "metadata": {},
   "outputs": [],
   "source": [
    "# creating a list of stopwords \n",
    "stopwords_list = stopwords.words('english') + list(string.punctuation)"
   ]
  },
  {
   "cell_type": "markdown",
   "metadata": {},
   "source": [
    "# initalizing test-train split"
   ]
  },
  {
   "cell_type": "code",
   "execution_count": 17,
   "metadata": {},
   "outputs": [],
   "source": [
    "# initializing test train split\n",
    "X_train, X_test, y_train, y_test = train_test_split(X, y, random_state=42)\n",
    "    \n",
    "tf = TfidfVectorizer(stop_words = stopwords_list)  \n",
    "tf_idf_train = tf.fit_transform(X_train)\n",
    "tf_idf_test = tf.transform(X_test)"
   ]
  },
  {
   "cell_type": "markdown",
   "metadata": {},
   "source": [
    "# Establishing SMOTE and ADASYN for the data"
   ]
  },
  {
   "cell_type": "code",
   "execution_count": 36,
   "metadata": {},
   "outputs": [],
   "source": [
    "smt = SMOTE(sampling_strategy='minority')\n",
    "X_train_smt, y_train_smt = smt.fit_sample(tf_idf_train, y_train)"
   ]
  },
  {
   "cell_type": "code",
   "execution_count": 35,
   "metadata": {},
   "outputs": [],
   "source": [
    "ada = ADASYN(sampling_strategy='minority')\n",
    "X_train_ada, y_train_ada = ada.fit_sample(tf_idf_train, y_train)"
   ]
  },
  {
   "cell_type": "code",
   "execution_count": 221,
   "metadata": {},
   "outputs": [],
   "source": [
    "# with open('balanced_train', 'wb') as handle:\n",
    "#     pickle.dump(y_train_ada, handle, protocol=pickle.HIGHEST_PROTOCOL)"
   ]
  },
  {
   "cell_type": "markdown",
   "metadata": {},
   "source": [
    "# creating dummy classifier"
   ]
  },
  {
   "cell_type": "code",
   "execution_count": 37,
   "metadata": {},
   "outputs": [
    {
     "data": {
      "text/plain": [
       "DummyClassifier(strategy='most_frequent')"
      ]
     },
     "execution_count": 37,
     "metadata": {},
     "output_type": "execute_result"
    }
   ],
   "source": [
    "# dummy for unbalanced data\n",
    "dummy_clf = DummyClassifier(strategy='most_frequent')\n",
    "dummy_clf.fit(tf_idf_train, y_train)\n",
    "\n",
    "# dummy for SMOTE data\n",
    "dummy_clf_smt = DummyClassifier(strategy='most_frequent')\n",
    "dummy_clf_smt.fit(X_train_smt, y_train_smt)\n",
    "\n",
    "# dummy for ADASYN data\n",
    "dummy_clf_ada = DummyClassifier(strategy='most_frequent')\n",
    "dummy_clf_ada.fit(X_train_ada, y_train_ada)"
   ]
  },
  {
   "cell_type": "code",
   "execution_count": 38,
   "metadata": {},
   "outputs": [],
   "source": [
    "dummy_preds = dummy_clf.predict(tf_idf_test)\n",
    "dummy_preds_smt = dummy_clf_smt.predict(tf_idf_test)\n",
    "dummy_preds_ada = dummy_clf_ada.predict(tf_idf_test)"
   ]
  },
  {
   "cell_type": "code",
   "execution_count": 278,
   "metadata": {},
   "outputs": [
    {
     "name": "stdout",
     "output_type": "stream",
     "text": [
      "Dummy Classifier Accuracy Score:  0.8330019880715706\n",
      "Dummy Classifier F1 Score:  0.0\n"
     ]
    }
   ],
   "source": [
    "print('Dummy Classifier Accuracy Score: ',accuracy_score(y_test, dummy_preds))\n",
    "print('Dummy Classifier F1 Score: ',f1_score(y_test, dummy_preds))"
   ]
  },
  {
   "cell_type": "code",
   "execution_count": 279,
   "metadata": {},
   "outputs": [
    {
     "name": "stdout",
     "output_type": "stream",
     "text": [
      "ADA Dummy Classifier Accuracy Score:  0.8330019880715706\n",
      "ADA Dummy Classifier F1 Score:  0.0\n"
     ]
    }
   ],
   "source": [
    "print('ADA Dummy Classifier Accuracy Score: ',accuracy_score(y_test, dummy_preds_ada))\n",
    "print('ADA Dummy Classifier F1 Score: ',f1_score(y_test, dummy_preds_ada))"
   ]
  },
  {
   "cell_type": "code",
   "execution_count": 280,
   "metadata": {},
   "outputs": [
    {
     "name": "stdout",
     "output_type": "stream",
     "text": [
      "SMT Dummy Classifier Accuracy Score:  0.8330019880715706\n",
      "SMT Dummy Classifier F1 Score:  0.0\n"
     ]
    }
   ],
   "source": [
    "print('SMT Dummy Classifier Accuracy Score: ',accuracy_score(y_test, dummy_preds_smt))\n",
    "print('SMT Dummy Classifier F1 Score: ',f1_score(y_test, dummy_preds_smt))"
   ]
  },
  {
   "cell_type": "markdown",
   "metadata": {},
   "source": [
    "# Setting up Gridsearch for Naives Bayes"
   ]
  },
  {
   "cell_type": "code",
   "execution_count": 115,
   "metadata": {},
   "outputs": [],
   "source": [
    "# creating dictionaries for naive bayes gridsearch parameters\n",
    "nb_param = {'alpha':[0.0001, 0.001, 0.01, 0.05, 0.1]}"
   ]
  },
  {
   "cell_type": "code",
   "execution_count": 134,
   "metadata": {},
   "outputs": [
    {
     "name": "stdout",
     "output_type": "stream",
     "text": [
      "Fitting 5 folds for each of 5 candidates, totalling 25 fits\n"
     ]
    },
    {
     "name": "stderr",
     "output_type": "stream",
     "text": [
      "[Parallel(n_jobs=-1)]: Using backend LokyBackend with 4 concurrent workers.\n",
      "[Parallel(n_jobs=-1)]: Done  25 out of  25 | elapsed:    4.9s finished\n"
     ]
    },
    {
     "data": {
      "text/plain": [
       "GridSearchCV(cv=5, estimator=MultinomialNB(), n_jobs=-1,\n",
       "             param_grid={'alpha': [0.0001, 0.001, 0.01, 0.05, 0.1]}, verbose=1)"
      ]
     },
     "execution_count": 134,
     "metadata": {},
     "output_type": "execute_result"
    }
   ],
   "source": [
    "grid_nb = GridSearchCV(nb_classifier, nb_param, n_jobs = -1, cv =5, verbose =1)\n",
    "\n",
    "grid_nb.fit(tf_idf_train, y_train)"
   ]
  },
  {
   "cell_type": "code",
   "execution_count": 135,
   "metadata": {},
   "outputs": [
    {
     "data": {
      "text/plain": [
       "{'alpha': 0.0001}"
      ]
     },
     "execution_count": 135,
     "metadata": {},
     "output_type": "execute_result"
    }
   ],
   "source": [
    "grid_nb.best_params_"
   ]
  },
  {
   "cell_type": "code",
   "execution_count": 281,
   "metadata": {
    "scrolled": true
   },
   "outputs": [
    {
     "name": "stdout",
     "output_type": "stream",
     "text": [
      "Gridsearch NB Accuracy SCore:  0.856858846918489\n",
      "Gridsearch NB F1 SCore:  0.45454545454545453\n"
     ]
    }
   ],
   "source": [
    "grid_nb_pred = grid_nb.best_estimator_.predict(tf_idf_test)\n",
    "\n",
    "print('Gridsearch NB Accuracy SCore: ',accuracy_score(grid_nb_pred, y_test))\n",
    "print('Gridsearch NB F1 SCore: ',f1_score(grid_nb_pred, y_test))"
   ]
  },
  {
   "cell_type": "markdown",
   "metadata": {},
   "source": [
    "###### SMOTE"
   ]
  },
  {
   "cell_type": "code",
   "execution_count": 80,
   "metadata": {
    "scrolled": false
   },
   "outputs": [
    {
     "name": "stdout",
     "output_type": "stream",
     "text": [
      "Fitting 5 folds for each of 1 candidates, totalling 5 fits\n"
     ]
    },
    {
     "name": "stderr",
     "output_type": "stream",
     "text": [
      "[Parallel(n_jobs=-1)]: Using backend LokyBackend with 4 concurrent workers.\n",
      "[Parallel(n_jobs=-1)]: Done   5 out of   5 | elapsed:    0.1s finished\n"
     ]
    },
    {
     "data": {
      "text/plain": [
       "GridSearchCV(cv=5, estimator=MultinomialNB(), n_jobs=-1,\n",
       "             param_grid={'alpha': [0.001]}, verbose=1)"
      ]
     },
     "execution_count": 80,
     "metadata": {},
     "output_type": "execute_result"
    }
   ],
   "source": [
    "grid_nb_smt = GridSearchCV(nb_smt, nb_param, n_jobs=-1, cv=5, verbose=1)\n",
    "grid_nb_smt.fit(X_train_smt, y_train_smt)"
   ]
  },
  {
   "cell_type": "code",
   "execution_count": 81,
   "metadata": {},
   "outputs": [
    {
     "data": {
      "text/plain": [
       "{'alpha': 0.001}"
      ]
     },
     "execution_count": 81,
     "metadata": {},
     "output_type": "execute_result"
    }
   ],
   "source": [
    "grid_nb_smt.best_params_"
   ]
  },
  {
   "cell_type": "code",
   "execution_count": 67,
   "metadata": {},
   "outputs": [],
   "source": [
    "grid_nb_smt_pred = grid_nb_smt.best_estimator_.predict(tf_idf_test)"
   ]
  },
  {
   "cell_type": "code",
   "execution_count": 282,
   "metadata": {},
   "outputs": [
    {
     "name": "stdout",
     "output_type": "stream",
     "text": [
      "SMT Gridsearch NB Accuracy SCore:  0.8369781312127237\n",
      "SMT Gridsearch NB F1 SCore:  0.48101265822784806\n"
     ]
    }
   ],
   "source": [
    "print('SMT Gridsearch NB Accuracy SCore: ',accuracy_score(grid_nb_smt_pred, y_test))\n",
    "print('SMT Gridsearch NB F1 SCore: ',f1_score(grid_nb_smt_pred, y_test))"
   ]
  },
  {
   "cell_type": "markdown",
   "metadata": {},
   "source": [
    "###### ADASYN"
   ]
  },
  {
   "cell_type": "code",
   "execution_count": 88,
   "metadata": {},
   "outputs": [
    {
     "name": "stdout",
     "output_type": "stream",
     "text": [
      "Fitting 5 folds for each of 5 candidates, totalling 25 fits\n"
     ]
    },
    {
     "name": "stderr",
     "output_type": "stream",
     "text": [
      "[Parallel(n_jobs=-1)]: Using backend LokyBackend with 4 concurrent workers.\n",
      "[Parallel(n_jobs=-1)]: Done  25 out of  25 | elapsed:    0.2s finished\n"
     ]
    },
    {
     "data": {
      "text/plain": [
       "GridSearchCV(cv=5, estimator=MultinomialNB(), n_jobs=-1,\n",
       "             param_grid={'alpha': [0.0001, 0.001, 0.01, 0.05, 0.1]}, verbose=1)"
      ]
     },
     "execution_count": 88,
     "metadata": {},
     "output_type": "execute_result"
    }
   ],
   "source": [
    "grid_nb_ada = GridSearchCV(nb_ada, nb_param, n_jobs=-1, cv=5, verbose=1)\n",
    "grid_nb_ada.fit(X_train_ada, y_train_ada)"
   ]
  },
  {
   "cell_type": "code",
   "execution_count": 89,
   "metadata": {},
   "outputs": [
    {
     "data": {
      "text/plain": [
       "{'alpha': 0.0001}"
      ]
     },
     "execution_count": 89,
     "metadata": {},
     "output_type": "execute_result"
    }
   ],
   "source": [
    "grid_nb_ada.best_params_"
   ]
  },
  {
   "cell_type": "code",
   "execution_count": 91,
   "metadata": {},
   "outputs": [],
   "source": [
    "grid_nb_ada_pred = grid_nb_ada.best_estimator_.predict(tf_idf_test)"
   ]
  },
  {
   "cell_type": "code",
   "execution_count": 283,
   "metadata": {},
   "outputs": [
    {
     "name": "stdout",
     "output_type": "stream",
     "text": [
      "ADA Gridsearch NB Accuracy SCore:  0.8489065606361829\n",
      "ADA Gridsearch NB F1 SCore:  0.4933333333333333\n"
     ]
    }
   ],
   "source": [
    "print('ADA Gridsearch NB Accuracy SCore: ',accuracy_score(grid_nb_ada_pred, y_test))\n",
    "print('ADA Gridsearch NB F1 SCore: ',f1_score(grid_nb_ada_pred, y_test))"
   ]
  },
  {
   "cell_type": "markdown",
   "metadata": {},
   "source": [
    "# Setting up Gridsearch for Random Forest"
   ]
  },
  {
   "cell_type": "code",
   "execution_count": 128,
   "metadata": {},
   "outputs": [],
   "source": [
    "rf_param = {'n_estimators':[100,200,300], 'criterion':['gini', 'entropy'], 'max_depth':[4,5,6,7],\n",
    "            'max_features':[3], 'max_leaf_nodes':[6,7,8,9]}"
   ]
  },
  {
   "cell_type": "code",
   "execution_count": 146,
   "metadata": {},
   "outputs": [],
   "source": [
    "rf = {'criterion': ['gini'],\n",
    " 'max_depth': [1],\n",
    " 'max_features': [1],\n",
    " 'max_leaf_nodes': [2],\n",
    " 'n_estimators': [20]}"
   ]
  },
  {
   "cell_type": "code",
   "execution_count": 147,
   "metadata": {
    "scrolled": true
   },
   "outputs": [
    {
     "name": "stdout",
     "output_type": "stream",
     "text": [
      "Fitting 5 folds for each of 1 candidates, totalling 5 fits\n"
     ]
    },
    {
     "name": "stderr",
     "output_type": "stream",
     "text": [
      "[Parallel(n_jobs=-1)]: Using backend LokyBackend with 4 concurrent workers.\n",
      "[Parallel(n_jobs=-1)]: Done   5 out of   5 | elapsed:    0.4s finished\n"
     ]
    },
    {
     "data": {
      "text/plain": [
       "GridSearchCV(cv=5, estimator=RandomForestClassifier(), n_jobs=-1,\n",
       "             param_grid={'criterion': ['gini'], 'max_depth': [1],\n",
       "                         'max_features': [1], 'max_leaf_nodes': [2],\n",
       "                         'n_estimators': [20]},\n",
       "             verbose=1)"
      ]
     },
     "execution_count": 147,
     "metadata": {},
     "output_type": "execute_result"
    }
   ],
   "source": [
    "grid_rf = GridSearchCV(rf_classifier, rf, n_jobs = -1, cv =5, verbose=1)\n",
    "\n",
    "grid_rf.fit(tf_idf_train, y_train)"
   ]
  },
  {
   "cell_type": "code",
   "execution_count": 148,
   "metadata": {},
   "outputs": [
    {
     "data": {
      "text/plain": [
       "{'criterion': 'gini',\n",
       " 'max_depth': 1,\n",
       " 'max_features': 1,\n",
       " 'max_leaf_nodes': 2,\n",
       " 'n_estimators': 20}"
      ]
     },
     "execution_count": 148,
     "metadata": {},
     "output_type": "execute_result"
    }
   ],
   "source": [
    "grid_rf.best_params_"
   ]
  },
  {
   "cell_type": "code",
   "execution_count": 284,
   "metadata": {},
   "outputs": [
    {
     "name": "stdout",
     "output_type": "stream",
     "text": [
      "Gridsearch RF Accuracy SCore:  0.8330019880715706\n",
      "Gridsearch RF F1 SCore:  0.0\n"
     ]
    }
   ],
   "source": [
    "grid_rf_pred = grid_rf.best_estimator_.predict(tf_idf_test)\n",
    "\n",
    "print('Gridsearch RF Accuracy SCore: ',accuracy_score(grid_rf_pred, y_test))\n",
    "print('Gridsearch RF F1 SCore: ',f1_score(grid_rf_pred, y_test))"
   ]
  },
  {
   "cell_type": "markdown",
   "metadata": {},
   "source": [
    "###### SMOTE"
   ]
  },
  {
   "cell_type": "code",
   "execution_count": 124,
   "metadata": {
    "scrolled": false
   },
   "outputs": [
    {
     "name": "stdout",
     "output_type": "stream",
     "text": [
      "Fitting 5 folds for each of 48 candidates, totalling 240 fits\n"
     ]
    },
    {
     "name": "stderr",
     "output_type": "stream",
     "text": [
      "[Parallel(n_jobs=-1)]: Using backend LokyBackend with 4 concurrent workers.\n",
      "[Parallel(n_jobs=-1)]: Done  42 tasks      | elapsed:    8.5s\n",
      "[Parallel(n_jobs=-1)]: Done 192 tasks      | elapsed:   34.8s\n",
      "[Parallel(n_jobs=-1)]: Done 240 out of 240 | elapsed:   43.0s finished\n"
     ]
    },
    {
     "data": {
      "text/plain": [
       "GridSearchCV(cv=5, estimator=RandomForestClassifier(), n_jobs=-1,\n",
       "             param_grid={'criterion': ['gini'], 'max_depth': [4, 5, 6, 7],\n",
       "                         'max_features': [3], 'max_leaf_nodes': [6, 7, 8, 9],\n",
       "                         'n_estimators': [100, 200, 300]},\n",
       "             verbose=1)"
      ]
     },
     "execution_count": 124,
     "metadata": {},
     "output_type": "execute_result"
    }
   ],
   "source": [
    "grid_rf_smt = GridSearchCV(rf_smt, rf_param, n_jobs=-1, cv=5, verbose=1)\n",
    "grid_rf_smt.fit(X_train_smt, y_train_smt)"
   ]
  },
  {
   "cell_type": "code",
   "execution_count": 125,
   "metadata": {},
   "outputs": [
    {
     "data": {
      "text/plain": [
       "{'criterion': 'gini',\n",
       " 'max_depth': 7,\n",
       " 'max_features': 3,\n",
       " 'max_leaf_nodes': 9,\n",
       " 'n_estimators': 300}"
      ]
     },
     "execution_count": 125,
     "metadata": {},
     "output_type": "execute_result"
    }
   ],
   "source": [
    "grid_rf_smt.best_params_"
   ]
  },
  {
   "cell_type": "code",
   "execution_count": 285,
   "metadata": {},
   "outputs": [
    {
     "name": "stdout",
     "output_type": "stream",
     "text": [
      "SMT Gridsearch NB Accuracy SCore:  0.8091451292246521\n",
      "SMT Gridsearch NB f1 SCore:  0.22580645161290322\n"
     ]
    }
   ],
   "source": [
    "grid_rf_smt_pred = grid_rf_smt.best_estimator_.predict(tf_idf_test)\n",
    "\n",
    "print('SMT Gridsearch NB Accuracy SCore: ',accuracy_score(grid_rf_smt_pred, y_test))\n",
    "print('SMT Gridsearch NB f1 SCore: ',f1_score(grid_rf_smt_pred, y_test))"
   ]
  },
  {
   "cell_type": "markdown",
   "metadata": {},
   "source": [
    "###### ADASYN"
   ]
  },
  {
   "cell_type": "code",
   "execution_count": 129,
   "metadata": {
    "scrolled": true
   },
   "outputs": [
    {
     "name": "stdout",
     "output_type": "stream",
     "text": [
      "Fitting 5 folds for each of 96 candidates, totalling 480 fits\n"
     ]
    },
    {
     "name": "stderr",
     "output_type": "stream",
     "text": [
      "[Parallel(n_jobs=-1)]: Using backend LokyBackend with 4 concurrent workers.\n",
      "[Parallel(n_jobs=-1)]: Done  42 tasks      | elapsed:    9.9s\n",
      "[Parallel(n_jobs=-1)]: Done 192 tasks      | elapsed:   35.6s\n",
      "[Parallel(n_jobs=-1)]: Done 442 tasks      | elapsed:  1.3min\n",
      "[Parallel(n_jobs=-1)]: Done 480 out of 480 | elapsed:  1.4min finished\n"
     ]
    },
    {
     "data": {
      "text/plain": [
       "GridSearchCV(cv=5, estimator=RandomForestClassifier(), n_jobs=-1,\n",
       "             param_grid={'criterion': ['gini', 'entropy'],\n",
       "                         'max_depth': [4, 5, 6, 7], 'max_features': [3],\n",
       "                         'max_leaf_nodes': [6, 7, 8, 9],\n",
       "                         'n_estimators': [100, 200, 300]},\n",
       "             verbose=1)"
      ]
     },
     "execution_count": 129,
     "metadata": {},
     "output_type": "execute_result"
    }
   ],
   "source": [
    "grid_rf_ada = GridSearchCV(rf_ada, rf_param, n_jobs=-1, cv=5, verbose=1)\n",
    "grid_rf_ada.fit(X_train_ada, y_train_ada)"
   ]
  },
  {
   "cell_type": "code",
   "execution_count": 130,
   "metadata": {},
   "outputs": [
    {
     "data": {
      "text/plain": [
       "{'criterion': 'gini',\n",
       " 'max_depth': 7,\n",
       " 'max_features': 3,\n",
       " 'max_leaf_nodes': 9,\n",
       " 'n_estimators': 200}"
      ]
     },
     "execution_count": 130,
     "metadata": {},
     "output_type": "execute_result"
    }
   ],
   "source": [
    "grid_rf_ada.best_params_"
   ]
  },
  {
   "cell_type": "code",
   "execution_count": 286,
   "metadata": {},
   "outputs": [
    {
     "name": "stdout",
     "output_type": "stream",
     "text": [
      "ADA Gridsearch NB Accuracy SCore:  0.8190854870775348\n",
      "ADA Gridsearch NB F1 SCore:  0.22222222222222224\n"
     ]
    }
   ],
   "source": [
    "grid_rf_ada_pred = grid_rf_ada.best_estimator_.predict(tf_idf_test)\n",
    "\n",
    "print('ADA Gridsearch NB Accuracy SCore: ',accuracy_score(grid_rf_ada_pred, y_test))\n",
    "print('ADA Gridsearch NB F1 SCore: ',f1_score(grid_rf_ada_pred, y_test))"
   ]
  },
  {
   "cell_type": "code",
   "execution_count": null,
   "metadata": {},
   "outputs": [],
   "source": []
  },
  {
   "cell_type": "markdown",
   "metadata": {},
   "source": [
    "# Setting up Gridsearch for XGBoost"
   ]
  },
  {
   "cell_type": "code",
   "execution_count": 174,
   "metadata": {},
   "outputs": [],
   "source": [
    "xgb_param = {'max_depth':[5,6,7], 'learning_rate':[0.001], \n",
    "             'min_child_weight':[0.01, 0.05, 0.09, 0.1], 'n_estimators':[25, 50, 75, 100]}"
   ]
  },
  {
   "cell_type": "code",
   "execution_count": 157,
   "metadata": {
    "collapsed": true
   },
   "outputs": [
    {
     "name": "stdout",
     "output_type": "stream",
     "text": [
      "Fitting 3 folds for each of 9 candidates, totalling 27 fits\n"
     ]
    },
    {
     "name": "stderr",
     "output_type": "stream",
     "text": [
      "[Parallel(n_jobs=-1)]: Using backend LokyBackend with 4 concurrent workers.\n",
      "[Parallel(n_jobs=-1)]: Done  27 out of  27 | elapsed:   58.2s finished\n"
     ]
    },
    {
     "data": {
      "text/plain": [
       "GridSearchCV(cv=3,\n",
       "             estimator=XGBClassifier(base_score=0.5, booster='gbtree',\n",
       "                                     colsample_bylevel=1, colsample_bynode=1,\n",
       "                                     colsample_bytree=1, gamma=0, gpu_id=-1,\n",
       "                                     importance_type='gain',\n",
       "                                     interaction_constraints='',\n",
       "                                     learning_rate=0.300000012,\n",
       "                                     max_delta_step=0, max_depth=6,\n",
       "                                     min_child_weight=1, missing=nan,\n",
       "                                     monotone_constraints='()',\n",
       "                                     n_estimators=100, n_jobs=0,\n",
       "                                     num_parallel_tree=1, random_state=0,\n",
       "                                     reg_alpha=0, reg_lambda=1,\n",
       "                                     scale_pos_weight=1, subsample=1,\n",
       "                                     tree_method='exact', validate_parameters=1,\n",
       "                                     verbosity=None),\n",
       "             n_jobs=-1,\n",
       "             param_grid={'learning_rate': [0.1], 'max_depth': [1, 2, 3],\n",
       "                         'min_child_weight': [0.1, 0.5, 1],\n",
       "                         'n_estimators': [200]},\n",
       "             verbose=1)"
      ]
     },
     "execution_count": 157,
     "metadata": {},
     "output_type": "execute_result"
    }
   ],
   "source": [
    "grid_xgb = GridSearchCV(xgb_classifier, xgb_param, n_jobs= -1, cv=3, verbose=1)\n",
    "\n",
    "grid_xgb.fit(tf_idf_train, y_train)"
   ]
  },
  {
   "cell_type": "code",
   "execution_count": 158,
   "metadata": {
    "scrolled": true
   },
   "outputs": [
    {
     "data": {
      "text/plain": [
       "{'learning_rate': 0.1,\n",
       " 'max_depth': 3,\n",
       " 'min_child_weight': 1,\n",
       " 'n_estimators': 200}"
      ]
     },
     "execution_count": 158,
     "metadata": {},
     "output_type": "execute_result"
    }
   ],
   "source": [
    "grid_xgb.best_params_"
   ]
  },
  {
   "cell_type": "code",
   "execution_count": 287,
   "metadata": {},
   "outputs": [
    {
     "name": "stdout",
     "output_type": "stream",
     "text": [
      "Gridsearch XGB Accuracy SCore:  0.8886679920477137\n",
      "Gridsearch XGB F1 SCore:  0.6626506024096386\n"
     ]
    }
   ],
   "source": [
    "grid_xgb_pred = grid_xgb.best_estimator_.predict(tf_idf_test)\n",
    "\n",
    "print('Gridsearch XGB Accuracy SCore: ',accuracy_score(grid_xgb_pred, y_test))\n",
    "print('Gridsearch XGB F1 SCore: ',f1_score(grid_xgb_pred, y_test))"
   ]
  },
  {
   "cell_type": "markdown",
   "metadata": {},
   "source": [
    "###### SMOTE"
   ]
  },
  {
   "cell_type": "code",
   "execution_count": 169,
   "metadata": {
    "collapsed": true
   },
   "outputs": [
    {
     "name": "stdout",
     "output_type": "stream",
     "text": [
      "Fitting 3 folds for each of 1 candidates, totalling 3 fits\n"
     ]
    },
    {
     "name": "stderr",
     "output_type": "stream",
     "text": [
      "[Parallel(n_jobs=-1)]: Using backend LokyBackend with 4 concurrent workers.\n",
      "[Parallel(n_jobs=-1)]: Done   3 out of   3 | elapsed:   16.7s finished\n"
     ]
    },
    {
     "data": {
      "text/plain": [
       "GridSearchCV(cv=3,\n",
       "             estimator=XGBClassifier(base_score=0.5, booster='gbtree',\n",
       "                                     colsample_bylevel=1, colsample_bynode=1,\n",
       "                                     colsample_bytree=1, gamma=0, gpu_id=-1,\n",
       "                                     importance_type='gain',\n",
       "                                     interaction_constraints='',\n",
       "                                     learning_rate=0.300000012,\n",
       "                                     max_delta_step=0, max_depth=6,\n",
       "                                     min_child_weight=1, missing=nan,\n",
       "                                     monotone_constraints='()',\n",
       "                                     n_estimators=100, n_jobs=0,\n",
       "                                     num_parallel_tree=1, random_state=0,\n",
       "                                     reg_alpha=0, reg_lambda=1,\n",
       "                                     scale_pos_weight=1, subsample=1,\n",
       "                                     tree_method='exact', validate_parameters=1,\n",
       "                                     verbosity=None),\n",
       "             n_jobs=-1,\n",
       "             param_grid={'learning_rate': [0.001], 'max_depth': [2],\n",
       "                         'min_child_weight': [0.2], 'n_estimators': [200]},\n",
       "             verbose=1)"
      ]
     },
     "execution_count": 169,
     "metadata": {},
     "output_type": "execute_result"
    }
   ],
   "source": [
    "grid_xgb_smt = GridSearchCV(xgb_smt, xgb_param, n_jobs=-1, cv=3, verbose=1)\n",
    "\n",
    "grid_xgb_smt.fit(X_train_smt, y_train_smt)"
   ]
  },
  {
   "cell_type": "code",
   "execution_count": 164,
   "metadata": {},
   "outputs": [
    {
     "data": {
      "text/plain": [
       "{'learning_rate': 0.001,\n",
       " 'max_depth': 2,\n",
       " 'min_child_weight': 0.2,\n",
       " 'n_estimators': 200}"
      ]
     },
     "execution_count": 164,
     "metadata": {},
     "output_type": "execute_result"
    }
   ],
   "source": [
    "grid_xgb_smt.best_params_"
   ]
  },
  {
   "cell_type": "code",
   "execution_count": 288,
   "metadata": {
    "scrolled": true
   },
   "outputs": [
    {
     "name": "stdout",
     "output_type": "stream",
     "text": [
      "SMT Gridsearch XGB Accuracy SCore:  0.8389662027833003\n",
      "SMT Gridsearch XGB F1 SCore:  0.6267281105990784\n"
     ]
    }
   ],
   "source": [
    "grid_xgb_smt_pred = grid_xgb_smt.best_estimator_.predict(tf_idf_test)\n",
    "\n",
    "print('SMT Gridsearch XGB Accuracy SCore: ',accuracy_score(grid_xgb_smt_pred, y_test))\n",
    "print('SMT Gridsearch XGB F1 SCore: ',f1_score(grid_xgb_smt_pred, y_test))"
   ]
  },
  {
   "cell_type": "markdown",
   "metadata": {},
   "source": [
    "###### ADASYN"
   ]
  },
  {
   "cell_type": "code",
   "execution_count": 175,
   "metadata": {
    "collapsed": true
   },
   "outputs": [
    {
     "name": "stdout",
     "output_type": "stream",
     "text": [
      "Fitting 3 folds for each of 48 candidates, totalling 144 fits\n"
     ]
    },
    {
     "name": "stderr",
     "output_type": "stream",
     "text": [
      "[Parallel(n_jobs=-1)]: Using backend LokyBackend with 4 concurrent workers.\n",
      "[Parallel(n_jobs=-1)]: Done  42 tasks      | elapsed:  1.8min\n",
      "[Parallel(n_jobs=-1)]: Done 144 out of 144 | elapsed:  7.1min finished\n"
     ]
    },
    {
     "data": {
      "text/plain": [
       "GridSearchCV(cv=3,\n",
       "             estimator=XGBClassifier(base_score=0.5, booster='gbtree',\n",
       "                                     colsample_bylevel=1, colsample_bynode=1,\n",
       "                                     colsample_bytree=1, gamma=0, gpu_id=-1,\n",
       "                                     importance_type='gain',\n",
       "                                     interaction_constraints='',\n",
       "                                     learning_rate=0.300000012,\n",
       "                                     max_delta_step=0, max_depth=6,\n",
       "                                     min_child_weight=1, missing=nan,\n",
       "                                     monotone_constraints='()',\n",
       "                                     n_estimators=100, n_jobs=0,\n",
       "                                     num_parallel_tree=1, random_state=0,\n",
       "                                     reg_alpha=0, reg_lambda=1,\n",
       "                                     scale_pos_weight=1, subsample=1,\n",
       "                                     tree_method='exact', validate_parameters=1,\n",
       "                                     verbosity=None),\n",
       "             n_jobs=-1,\n",
       "             param_grid={'learning_rate': [0.001], 'max_depth': [5, 6, 7],\n",
       "                         'min_child_weight': [0.01, 0.05, 0.09, 0.1],\n",
       "                         'n_estimators': [25, 50, 75, 100]},\n",
       "             verbose=1)"
      ]
     },
     "execution_count": 175,
     "metadata": {},
     "output_type": "execute_result"
    }
   ],
   "source": [
    "grid_xgb_ada = GridSearchCV(xgb_ada, xgb_param, n_jobs=-1, cv=3, verbose=1)\n",
    "grid_xgb_ada.fit(X_train_ada, y_train_ada)"
   ]
  },
  {
   "cell_type": "code",
   "execution_count": 176,
   "metadata": {},
   "outputs": [
    {
     "data": {
      "text/plain": [
       "{'learning_rate': 0.001,\n",
       " 'max_depth': 5,\n",
       " 'min_child_weight': 0.01,\n",
       " 'n_estimators': 100}"
      ]
     },
     "execution_count": 176,
     "metadata": {},
     "output_type": "execute_result"
    }
   ],
   "source": [
    "grid_xgb_ada.best_params_"
   ]
  },
  {
   "cell_type": "code",
   "execution_count": 289,
   "metadata": {},
   "outputs": [
    {
     "name": "stdout",
     "output_type": "stream",
     "text": [
      "ADA Gridsearch XGB Accuracy SCore:  0.8429423459244533\n",
      "ADA Gridsearch XGB F1 SCore:  0.6291079812206574\n"
     ]
    }
   ],
   "source": [
    "grid_xgb_ada_pred = grid_xgb_ada.best_estimator_.predict(tf_idf_test)\n",
    "\n",
    "print('ADA Gridsearch XGB Accuracy SCore: ',accuracy_score(grid_xgb_ada_pred, y_test))\n",
    "print('ADA Gridsearch XGB F1 SCore: ',f1_score(grid_xgb_ada_pred, y_test))"
   ]
  },
  {
   "cell_type": "markdown",
   "metadata": {},
   "source": [
    "# Final models"
   ]
  },
  {
   "cell_type": "markdown",
   "metadata": {},
   "source": [
    "#### Naive Bayes"
   ]
  },
  {
   "cell_type": "code",
   "execution_count": 290,
   "metadata": {},
   "outputs": [
    {
     "name": "stdout",
     "output_type": "stream",
     "text": [
      "Naive Bayes Accuracy Score:  0.9781312127236581\n",
      "Naive Bayes F1 Score:  0.9325153374233128\n"
     ]
    }
   ],
   "source": [
    "final_nb = MultinomialNB(alpha=0.0001)\n",
    "final_nb.fit(tf_idf_test, y_test)\n",
    "\n",
    "final_nb_pred = final_nb.predict(tf_idf_test)\n",
    "print('Naive Bayes Accuracy Score: ',accuracy_score(y_test, final_nb_pred))\n",
    "print('Naive Bayes F1 Score: ',f1_score(y_test, final_nb_pred))"
   ]
  },
  {
   "cell_type": "code",
   "execution_count": 297,
   "metadata": {},
   "outputs": [
    {
     "data": {
      "image/png": "[encoded data removed]",
      "text/plain": [
       "<Figure size 432x288 with 2 Axes>"
      ]
     },
     "metadata": {},
     "output_type": "display_data"
    }
   ],
   "source": [
    "plot_confusion_matrix(final_nb, tf_idf_test, y_test, display_labels=['Not Python', 'Python'], cmap='Greys')\n",
    "\n",
    "plt.tight_layout(pad=0)\n",
    "# plt.savefig('images/nb_confusion.png', dpi=300)"
   ]
  },
  {
   "cell_type": "markdown",
   "metadata": {},
   "source": [
    "#### Random Forest"
   ]
  },
  {
   "cell_type": "code",
   "execution_count": 291,
   "metadata": {},
   "outputs": [
    {
     "name": "stdout",
     "output_type": "stream",
     "text": [
      "Random Forest Accuracy Score:  0.8330019880715706\n",
      "Random Forest F1 Score:  0.0\n"
     ]
    }
   ],
   "source": [
    "final_rf = RandomForestClassifier(criterion='gini', max_depth=1, max_features=1, max_leaf_nodes=2, n_estimators=20)\n",
    "final_rf.fit(tf_idf_train, y_train)\n",
    "\n",
    "final_rf_pred = final_rf.predict(tf_idf_test)\n",
    "print('Random Forest Accuracy Score: ',accuracy_score(y_test, final_rf_pred))\n",
    "print('Random Forest F1 Score: ',f1_score(y_test, final_rf_pred))"
   ]
  },
  {
   "cell_type": "code",
   "execution_count": 300,
   "metadata": {},
   "outputs": [
    {
     "data": {
      "image/png": "[encoded data removed]",
      "text/plain": [
       "<Figure size 432x288 with 2 Axes>"
      ]
     },
     "metadata": {},
     "output_type": "display_data"
    }
   ],
   "source": [
    "plot_confusion_matrix(final_rf, tf_idf_test, y_test, display_labels=['Not Python', 'Python'], cmap='Greys')\n",
    "# plt.savefig('images/rf_confusion.png', dpi=200)"
   ]
  },
  {
   "cell_type": "markdown",
   "metadata": {},
   "source": [
    "#### Unbalanced XGBoost"
   ]
  },
  {
   "cell_type": "code",
   "execution_count": 268,
   "metadata": {
    "scrolled": true
   },
   "outputs": [
    {
     "name": "stdout",
     "output_type": "stream",
     "text": [
      "XGBoost Accuracy Score:  0.8886679920477137\n",
      "XGBoost Recall Score:  0.6547619047619048\n"
     ]
    }
   ],
   "source": [
    "final_xgb = xgb.XGBClassifier(learning_rate=0.1, max_depth=3, min_child_weight=1, n_estimators=200)\n",
    "final_xgb.fit(tf_idf_train, y_train)\n",
    "\n",
    "final_xgb_pred = final_xgb.predict(tf_idf_test)\n",
    "print('XGBoost Accuracy Score: ',accuracy_score(y_test, final_xgb_pred))\n",
    "print('XGBoost Recall Score: ',recall_score(y_test, final_xgb_pred))"
   ]
  },
  {
   "cell_type": "code",
   "execution_count": 298,
   "metadata": {},
   "outputs": [
    {
     "data": {
      "image/png": "[encoded data removed]",
      "text/plain": [
       "<Figure size 432x288 with 2 Axes>"
      ]
     },
     "metadata": {},
     "output_type": "display_data"
    }
   ],
   "source": [
    "plot_confusion_matrix(final_xgb, tf_idf_test, y_test, display_labels=['Not Python', 'Python'], cmap='Greys')\n",
    "\n",
    "plt.tight_layout(pad=0)\n",
    "# plt.savefig('images/xgb_confusion.png', dpi=200)"
   ]
  },
  {
   "cell_type": "markdown",
   "metadata": {},
   "source": [
    "#### Balanaced XGBoost"
   ]
  },
  {
   "cell_type": "code",
   "execution_count": 272,
   "metadata": {},
   "outputs": [
    {
     "name": "stdout",
     "output_type": "stream",
     "text": [
      "XGBoost Accuracy Score:  0.8429423459244533\n",
      "XGBoost Recall Score:  0.7976190476190477\n"
     ]
    }
   ],
   "source": [
    "final_xgb_bal = xgb.XGBClassifier(learning_rate=0.0001, max_depth=5, min_child_weight=0.01, n_estimators=100)\n",
    "final_xgb_bal.fit(X_train_ada, y_train_ada)\n",
    "\n",
    "final_xgb_bal_pred = final_xgb_bal.predict(tf_idf_test)\n",
    "print('XGBoost Accuracy Score: ',accuracy_score(y_test, final_xgb_bal_pred))\n",
    "print('XGBoost Recall Score: ',recall_score(y_test, final_xgb_bal_pred))"
   ]
  },
  {
   "cell_type": "code",
   "execution_count": 299,
   "metadata": {},
   "outputs": [
    {
     "data": {
      "image/png": "[encoded data removed]",
      "text/plain": [
       "<Figure size 432x288 with 2 Axes>"
      ]
     },
     "metadata": {},
     "output_type": "display_data"
    }
   ],
   "source": [
    "plot_confusion_matrix(final_xgb_bal, tf_idf_test, y_test, display_labels=['Not Python', 'Python'], cmap='Greys')\n",
    "\n",
    "plt.tight_layout(pad=0)\n",
    "# plt.savefig('images/balanced_xgb_confusion.png', dpi=200)"
   ]
  },
  {
   "cell_type": "code",
   "execution_count": null,
   "metadata": {},
   "outputs": [],
   "source": []
  }
 ],
 "metadata": {
  "kernelspec": {
   "display_name": "Python 3",
   "language": "python",
   "name": "python3"
  },
  "language_info": {
   "codemirror_mode": {
    "name": "ipython",
    "version": 3
   },
   "file_extension": ".py",
   "mimetype": "text/x-python",
   "name": "python",
   "nbconvert_exporter": "python",
   "pygments_lexer": "ipython3",
   "version": "3.7.4"
  }
 },
 "nbformat": 4,
 "nbformat_minor": 2
}
