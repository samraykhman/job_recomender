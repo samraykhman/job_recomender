{
 "cells": [
  {
   "cell_type": "code",
   "execution_count": 1,
   "metadata": {},
   "outputs": [],
   "source": [
    "import pandas as pd\n",
    "import numpy as np\n",
    "\n",
    "import requests\n",
    "import json\n",
    "from bs4 import BeautifulSoup\n",
    "\n",
    "import string\n",
    "import re\n",
    "import pprint\n",
    "import unidecode\n",
    "\n",
    "import time"
   ]
  },
  {
   "cell_type": "code",
   "execution_count": 2,
   "metadata": {},
   "outputs": [],
   "source": [
    "import capstone_functions as f"
   ]
  },
  {
   "cell_type": "code",
   "execution_count": 3,
   "metadata": {},
   "outputs": [],
   "source": [
    "header = {'user-agent': 'Mozilla/5.0 (Macintosh; Intel Mac OS X 10_15_4) AppleWebKit/537.36 (KHTML, like Gecko) Chrome/80.0.3987.163 Safari/537.36'}"
   ]
  },
  {
   "cell_type": "markdown",
   "metadata": {},
   "source": [
    "# Testing web-scrape code to make sure it works"
   ]
  },
  {
   "cell_type": "code",
   "execution_count": 22,
   "metadata": {},
   "outputs": [],
   "source": [
    "trial = 'https://stackoverflow.com/jobs/406677/senior-platform-engineer-paigeai?so=i&pg=2&offset=0'\n",
    "trial_response = requests.get(trial, headers = header)\n",
    "trial_soup = BeautifulSoup(trial_response.text, 'html.parser')"
   ]
  },
  {
   "cell_type": "code",
   "execution_count": 23,
   "metadata": {},
   "outputs": [],
   "source": [
    "tech = []\n",
    "job_tech = trial_soup.find_all('section', {'class':'mb32'})[1]('a')\n",
    "for x in job_tech:\n",
    "    tech.append(x.text)\n",
    "    \n",
    "# tech"
   ]
  },
  {
   "cell_type": "code",
   "execution_count": 24,
   "metadata": {},
   "outputs": [],
   "source": [
    "overview = ''\n",
    "job_overview = trial_soup.find_all('section', {'class':'mb32'})[2](['p', 'ul'])\n",
    "for y in job_overview:\n",
    "    overview += y.text\n",
    "\n",
    "# overview"
   ]
  },
  {
   "cell_type": "code",
   "execution_count": 26,
   "metadata": {},
   "outputs": [],
   "source": [
    "position = str(trial_soup.find_all('h1', {'class':'fs-headline1 mb4'})[0].text)\n",
    "# position"
   ]
  },
  {
   "cell_type": "code",
   "execution_count": 27,
   "metadata": {},
   "outputs": [],
   "source": [
    "about = [trial_soup.find('section', {'class':'mb32'})('div')[1].text]\n",
    "# about"
   ]
  },
  {
   "cell_type": "markdown",
   "metadata": {},
   "source": [
    "---"
   ]
  },
  {
   "cell_type": "markdown",
   "metadata": {},
   "source": [
    "# Loop functions to scrape website"
   ]
  },
  {
   "cell_type": "code",
   "execution_count": 4,
   "metadata": {},
   "outputs": [],
   "source": [
    "# create an empty list to store all hyperlinks\n",
    "all_hyperlinks = []"
   ]
  },
  {
   "cell_type": "code",
   "execution_count": 3,
   "metadata": {},
   "outputs": [],
   "source": [
    "import capstone_functions as f"
   ]
  },
  {
   "cell_type": "code",
   "execution_count": 6,
   "metadata": {
    "scrolled": true
   },
   "outputs": [],
   "source": [
    "# loop to go through every page and get a link for each job posting\n",
    "# at the time of the web scrape, there were 116 pages\n",
    "i = 1\n",
    "while i <= 116:\n",
    "    url = 'https://stackoverflow.com/jobs?pg={}'.format(i)        \n",
    "    f.get_hyperlinks(url, header, all_hyperlinks)\n",
    "    i += 1"
   ]
  },
  {
   "cell_type": "code",
   "execution_count": 7,
   "metadata": {
    "scrolled": false
   },
   "outputs": [
    {
     "data": {
      "text/plain": [
       "2845"
      ]
     },
     "execution_count": 7,
     "metadata": {},
     "output_type": "execute_result"
    }
   ],
   "source": [
    "len(set(all_hyperlinks))"
   ]
  },
  {
   "cell_type": "code",
   "execution_count": 8,
   "metadata": {
    "scrolled": true
   },
   "outputs": [
    {
     "data": {
      "text/plain": [
       "2845"
      ]
     },
     "execution_count": 8,
     "metadata": {},
     "output_type": "execute_result"
    }
   ],
   "source": [
    "len(all_hyperlinks)"
   ]
  },
  {
   "cell_type": "code",
   "execution_count": null,
   "metadata": {},
   "outputs": [],
   "source": [
    "all_hyperlinks[0]"
   ]
  },
  {
   "cell_type": "code",
   "execution_count": 9,
   "metadata": {},
   "outputs": [],
   "source": [
    "job_desc_list = []"
   ]
  },
  {
   "cell_type": "code",
   "execution_count": 11,
   "metadata": {},
   "outputs": [],
   "source": [
    "# loop for every url in list\n",
    "# set up counter to check for errors\n",
    "s = 0\n",
    "for link in all_hyperlinks:\n",
    "    url = link\n",
    "    f.each_job(url, header, job_desc_list)\n",
    "    s += 1\n",
    "s"
   ]
  },
  {
   "cell_type": "code",
   "execution_count": 13,
   "metadata": {
    "collapsed": true
   },
   "outputs": [
    {
     "data": {
      "text/plain": [
       "{'position': ['\\nEngineering Manager '],\n",
       " 'description': ['\\n\\nJob type: \\nFull-time\\n\\n\\nExperience level: \\nManager\\n\\n\\nRole: \\nFull Stack Developer\\n\\n'],\n",
       " 'languages': ['python',\n",
       "  'django',\n",
       "  'javascript',\n",
       "  'react',\n",
       "  'amazon-web-services'],\n",
       " 'overview': \"Force is reimagining the way patients recover from injury and surgery. We are partnered with leading health systems across the United States to deliver prescriptive plans of care to their patients, measure multiple clinical data points and provide actionable insights into care and recovery. We have a direct and immediate feedback loop to our end users (patients and providers) and pride ourselves in being agile and responsive.What you’ll be doing: Our ideal engineering manager has a background and knowledge of functioning as an individual technical contributor working with web and mobile technologies. As a manager, you’ll work with engineers to make good technical decisions and support the career growth and development of the team. We’re looking for someone who loves writing code but also wants to be involved in high level strategic decision making. You should be comfortable managing a wide range of responsibilities.Our engineering team is currently composed of different engineering disciplines: frontend, backend, and native mobile engineering, and security. Our ideal candidate has experience developing web-based SaaS applications. As a leader, you’ll contribute to the team’s overall effectiveness, turn blockers into opportunities, and improve team workflows.Skills:\\nGuide the technical direction and priorities of a team while ensuring the delivery of high quality, scalable and heavily tested software\\nEngineering core skills (data structures & algorithms, scalable architecture, coding, formal test techniques, etc.)\\nGrow, educate, mentor, hire, and retain a high-performing team with high delivery cadence in an agile environment\\nBuild a culture of engineering excellence with a focus on performance, scalability, privacy, and security\\nCollaborate, design & ship new features in an innovative, iterative and experiment-driven mindset\\nYou'll lead in scaling our highly performant, mission critical platform that helps patients and doctors everyday.\\nFoster strong cross-functional relationships across engineering, QA, product, design, and other internal teams in order to partner and create a meaningful vision and roadmap for the team\\nEnsure compliance with HIPAA and SOC2 and applicable accessibility standards.\\nStrong architectural, design and development skills and ability to produce logical and workflow design and architectural diagrams\\nExperience with software project management (Agile best practices)\\nExperience implementing engineering best practices: CI/CD, feature flags, version control systems\\nExperience with frontend development:\\xa0JavaScript/React (or similar framework)\\nExperience with backend development: Python/Django (or similar framework)\\nExperience with operations and infrastructure automation: Docker, Jenkins, Disaster Recovery\\nExperience with AWS services (EC2, RDS)\\nFormer use of backlog management and bug tracking tools\\nWhat we’re looking for:\\n5+ years of professional coding, 2+ management experience\\xa0\\nTeam player with strong communication skills\\nBA/BS in Computer Science or related technical field or equivalent practical experience\\n\"}"
      ]
     },
     "execution_count": 13,
     "metadata": {},
     "output_type": "execute_result"
    }
   ],
   "source": [
    "job_desc_list[0]"
   ]
  },
  {
   "cell_type": "code",
   "execution_count": 88,
   "metadata": {},
   "outputs": [],
   "source": [
    "# loop to add url of job posting to each dict\n",
    "for idx, value in enumerate(all_hyperlinks):\n",
    "    job_desc_list[idx]['url'] = value"
   ]
  },
  {
   "cell_type": "code",
   "execution_count": 90,
   "metadata": {
    "collapsed": true
   },
   "outputs": [
    {
     "data": {
      "text/plain": [
       "{'position': ['\\nSoftware Engineer '],\n",
       " 'description': ['\\n\\nJob type: \\nFull-time\\n\\n\\nRole: \\nBackend Developer\\n\\n\\nIndustry: \\nFinancial Services\\n\\n'],\n",
       " 'languages': ['java', 'api', 'python'],\n",
       " 'overview': \"This role requires a wide variety of strengths and capabilities, including:     * BS/BA degree in Computer Science or AI/Machine Learning     * Provide technical expertise throughout the software lifecycle including design, implementation and delivery     * Understanding of cloud, virtualization, APIs, and modern software languages     * Software development experience in one or more general-purpose programming languages: Python, Java, C, C++, Go     * Experience with developing frameworks that help increase developer and release velocity, improving code health and technical standards     * Advanced experience working with two or more from the following: web application development, database, unix/linux environments, distributed and parallel systems, information retrieval, networking, large-scale software development, security software development     * Understanding or have experience with Agile and Lean philosophies     * Strong critical-thinking and problem-solving skills with clear communication     * Ability to collaborate with different roles to achieve common goalsJPMorgan Chase & Co., one of the oldest financial institutions, offers innovative financial solutions to millions of consumers, small businesses and many of the world's most prominent corporate, institutional and government clients under the J.P. Morgan and Chase brands. Our history spans over 200 years and today we are a leader in investment banking, consumer and small business banking, commercial banking, financial transaction processing and asset management.We recognize that our people are our strength and the diverse talents they bring to our global workforce are directly linked to our success. We are an equal opportunity employer and place a high value on diversity and inclusion at our company. We do not discriminate on the basis of any protected attribute, including race, religion, color, national origin, gender, sexual orientation, gender identity, gender expression, age, marital or veteran status, pregnancy or disability, or any other basis protected under applicable law. In accordance with applicable law, we make reasonable accommodations for applicants' and employees' religious practices and beliefs, as well as any mental health or physical disability needs.Equal Opportunity Employer/Disability/Veterans JPMorgan Chase & Co., one of the oldest financial institutions, offers innovative financial solutions to millions of consumers, small businesses and many of the world's most prominent corporate, institutional and government clients under the J.P. Morgan and Chase brands. Our history spans over 200 years and today we are a leader in investment banking, consumer and small business banking, commercial banking, financial transaction processing and asset management.We recognize that our people are our strength and the diverse talents they bring to our global workforce are directly linked to our success. We are an equal opportunity employer and place a high value on diversity and inclusion at our company. We do not discriminate on the basis of any protected attribute, including race, religion, color, national origin, gender, sexual orientation, gender identity, gender expression, age, marital or veteran status, pregnancy or disability, or any other basis protected under applicable law. In accordance with applicable law, we make reasonable accommodations for applicants' and employees' religious practices and beliefs, as well as any mental health or physical disability needs.Equal Opportunity Employer/Disability/Veterans We recognize that our people are our strength and the diverse talents they bring to our global workforce are directly linked to our success. We are an equal opportunity employer and place a high value on diversity and inclusion at our company. We do not discriminate on the basis of any protected attribute, including race, religion, color, national origin, gender, sexual orientation, gender identity, gender expression, age, marital or veteran status, pregnancy or disability, or any other basis protected under applicable law. In accordance with applicable law, we make reasonable accommodations for applicants' and employees' religious practices and beliefs, as well as any mental health or physical disability needs.Equal Opportunity Employer/Disability/Veterans Equal Opportunity Employer/Disability/Veterans\",\n",
       " 'url': 'https://stackoverflow.com//jobs/403371/software-engineer-jpmorgan-chase-bank-na?a=2bhfgu0diuu4&so=i&pg=1&offset=0&total=2901&so_medium=Internal&so_source=JobSearch'}"
      ]
     },
     "execution_count": 90,
     "metadata": {},
     "output_type": "execute_result"
    }
   ],
   "source": [
    "job_desc_list[0]"
   ]
  },
  {
   "cell_type": "code",
   "execution_count": 146,
   "metadata": {},
   "outputs": [],
   "source": [
    "# creating df of the list of dictionaries\n",
    "df = pd.DataFrame(job_desc_list)"
   ]
  },
  {
   "cell_type": "code",
   "execution_count": 163,
   "metadata": {},
   "outputs": [],
   "source": [
    "# dropped any rows with nan values for languages since this will be my target variable\n",
    "df.dropna(subset=['languages'], inplace=True)"
   ]
  },
  {
   "cell_type": "code",
   "execution_count": 176,
   "metadata": {},
   "outputs": [
    {
     "data": {
      "text/plain": [
       "(2891, 4)"
      ]
     },
     "execution_count": 176,
     "metadata": {},
     "output_type": "execute_result"
    }
   ],
   "source": [
    "df.shape"
   ]
  },
  {
   "cell_type": "code",
   "execution_count": 243,
   "metadata": {},
   "outputs": [],
   "source": [
    "# column had empty lists as values, so i removed those as well\n",
    "final = df[df.astype(str)['languages'] != '[]'].copy()"
   ]
  },
  {
   "cell_type": "code",
   "execution_count": 244,
   "metadata": {},
   "outputs": [
    {
     "data": {
      "text/plain": [
       "(2366, 4)"
      ]
     },
     "execution_count": 244,
     "metadata": {},
     "output_type": "execute_result"
    }
   ],
   "source": [
    "final.shape"
   ]
  },
  {
   "cell_type": "markdown",
   "metadata": {},
   "source": [
    "# Cleaning df with regex"
   ]
  },
  {
   "cell_type": "code",
   "execution_count": 266,
   "metadata": {},
   "outputs": [],
   "source": [
    "# creating regex condition for cleaning punctuation\n",
    "remove = string.punctuation\n",
    "remove = remove.replace('/', '') # don't remove slash\n",
    "pattern = r'[{}]'.format(remove)"
   ]
  },
  {
   "cell_type": "markdown",
   "metadata": {},
   "source": [
    "https://stackoverflow.com/questions/21209024/python-regex-remove-all-punctuation-except-hyphen-for-unicode-string/37708340"
   ]
  },
  {
   "cell_type": "code",
   "execution_count": 469,
   "metadata": {},
   "outputs": [],
   "source": [
    "clean = lambda x: f.clean_text(x, pattern)"
   ]
  },
  {
   "cell_type": "code",
   "execution_count": 470,
   "metadata": {},
   "outputs": [],
   "source": [
    "final.position = pd.DataFrame(final.position.apply(clean))"
   ]
  },
  {
   "cell_type": "code",
   "execution_count": 471,
   "metadata": {},
   "outputs": [],
   "source": [
    "final.description = pd.DataFrame(final.description.apply(clean))"
   ]
  },
  {
   "cell_type": "code",
   "execution_count": 472,
   "metadata": {},
   "outputs": [],
   "source": [
    "final.overview = pd.DataFrame(final.overview.apply(clean))"
   ]
  },
  {
   "cell_type": "code",
   "execution_count": 546,
   "metadata": {},
   "outputs": [],
   "source": [
    "final['clean_description'] = final.description.apply(lambda x: f.fix_description(x))"
   ]
  },
  {
   "cell_type": "code",
   "execution_count": 545,
   "metadata": {
    "scrolled": true
   },
   "outputs": [],
   "source": [
    "final['position_title'] = final.position.apply(lambda x: f.keep_position_name(x))"
   ]
  },
  {
   "cell_type": "code",
   "execution_count": 548,
   "metadata": {},
   "outputs": [],
   "source": [
    "# dropping for cleaned columns\n",
    "final.drop('position', axis=1, inplace=True)\n",
    "final.drop('description', axis=1, inplace=True)"
   ]
  },
  {
   "cell_type": "code",
   "execution_count": 640,
   "metadata": {
    "collapsed": true
   },
   "outputs": [
    {
     "data": {
      "text/html": [
       "<div>\n",
       "<style scoped>\n",
       "    .dataframe tbody tr th:only-of-type {\n",
       "        vertical-align: middle;\n",
       "    }\n",
       "\n",
       "    .dataframe tbody tr th {\n",
       "        vertical-align: top;\n",
       "    }\n",
       "\n",
       "    .dataframe thead th {\n",
       "        text-align: right;\n",
       "    }\n",
       "</style>\n",
       "<table border=\"1\" class=\"dataframe\">\n",
       "  <thead>\n",
       "    <tr style=\"text-align: right;\">\n",
       "      <th></th>\n",
       "      <th>languages</th>\n",
       "      <th>overview</th>\n",
       "      <th>position_title</th>\n",
       "      <th>clean_description</th>\n",
       "      <th>target</th>\n",
       "    </tr>\n",
       "  </thead>\n",
       "  <tbody>\n",
       "    <tr>\n",
       "      <td>1</td>\n",
       "      <td>[amazon-web-services, python, docker, kubernet...</td>\n",
       "      <td>Paige is a software company helping pathologis...</td>\n",
       "      <td>Senior Software Engineer Backend Cloud Computing</td>\n",
       "      <td>Job type Full time Experience level Senior Rol...</td>\n",
       "      <td>1</td>\n",
       "    </tr>\n",
       "    <tr>\n",
       "      <td>3</td>\n",
       "      <td>[python, javascript, reactjs, django, typescript]</td>\n",
       "      <td>About UsSimon Data was founded in by a team of...</td>\n",
       "      <td>Engineering Manager</td>\n",
       "      <td>Job type Full time Experience level Senior Man...</td>\n",
       "      <td>1</td>\n",
       "    </tr>\n",
       "    <tr>\n",
       "      <td>4</td>\n",
       "      <td>[node.js, kubernetes, microservices, typescrip...</td>\n",
       "      <td>Who is MANTL MANTL is a fast growing NYC based...</td>\n",
       "      <td>Senior Backend Engineer NYC Or Remote</td>\n",
       "      <td>Job type Full time Experience level Mid Level ...</td>\n",
       "      <td>0</td>\n",
       "    </tr>\n",
       "    <tr>\n",
       "      <td>5</td>\n",
       "      <td>[api, postgresql, scala, amazon-web-services, ...</td>\n",
       "      <td>As a SIMON Backend Engineer you will play an i...</td>\n",
       "      <td>Backend Engineer</td>\n",
       "      <td>Job type Full time Experience level Mid Level ...</td>\n",
       "      <td>0</td>\n",
       "    </tr>\n",
       "    <tr>\n",
       "      <td>6</td>\n",
       "      <td>[go, ruby, ruby-on-rails, redis, postgresql]</td>\n",
       "      <td>Gravity is looking for passionate software eng...</td>\n",
       "      <td>Software Engineer Backend NYC/LA</td>\n",
       "      <td>Job type Full time Experience level Junior Mid...</td>\n",
       "      <td>0</td>\n",
       "    </tr>\n",
       "  </tbody>\n",
       "</table>\n",
       "</div>"
      ],
      "text/plain": [
       "                                           languages  \\\n",
       "1  [amazon-web-services, python, docker, kubernet...   \n",
       "3  [python, javascript, reactjs, django, typescript]   \n",
       "4  [node.js, kubernetes, microservices, typescrip...   \n",
       "5  [api, postgresql, scala, amazon-web-services, ...   \n",
       "6       [go, ruby, ruby-on-rails, redis, postgresql]   \n",
       "\n",
       "                                            overview  \\\n",
       "1  Paige is a software company helping pathologis...   \n",
       "3  About UsSimon Data was founded in by a team of...   \n",
       "4  Who is MANTL MANTL is a fast growing NYC based...   \n",
       "5  As a SIMON Backend Engineer you will play an i...   \n",
       "6  Gravity is looking for passionate software eng...   \n",
       "\n",
       "                                     position_title  \\\n",
       "1  Senior Software Engineer Backend Cloud Computing   \n",
       "3                               Engineering Manager   \n",
       "4             Senior Backend Engineer NYC Or Remote   \n",
       "5                                  Backend Engineer   \n",
       "6                  Software Engineer Backend NYC/LA   \n",
       "\n",
       "                                   clean_description  target  \n",
       "1  Job type Full time Experience level Senior Rol...       1  \n",
       "3  Job type Full time Experience level Senior Man...       1  \n",
       "4  Job type Full time Experience level Mid Level ...       0  \n",
       "5  Job type Full time Experience level Mid Level ...       0  \n",
       "6  Job type Full time Experience level Junior Mid...       0  "
      ]
     },
     "execution_count": 640,
     "metadata": {},
     "output_type": "execute_result"
    }
   ],
   "source": [
    "final.head()"
   ]
  },
  {
   "cell_type": "markdown",
   "metadata": {},
   "source": [
    "# Creating target variable column"
   ]
  },
  {
   "cell_type": "code",
   "execution_count": 629,
   "metadata": {},
   "outputs": [],
   "source": [
    "# created column for boolean result if 'python' appears in languages column\n",
    "final['almost'] = final['languages'].apply(lambda x: any(['python' in x for value in final['languages']]))"
   ]
  },
  {
   "cell_type": "code",
   "execution_count": 637,
   "metadata": {},
   "outputs": [],
   "source": [
    "# created target variable column\n",
    "targ_dict = {True:1, False:0}\n",
    "final['target'] = final['almost'].map(targ_dict)"
   ]
  },
  {
   "cell_type": "code",
   "execution_count": 639,
   "metadata": {},
   "outputs": [],
   "source": [
    "# dropping almost column now that i have target column\n",
    "final.drop('almost', axis=1, inplace=True)"
   ]
  },
  {
   "cell_type": "code",
   "execution_count": 644,
   "metadata": {
    "collapsed": true
   },
   "outputs": [
    {
     "data": {
      "text/html": [
       "<div>\n",
       "<style scoped>\n",
       "    .dataframe tbody tr th:only-of-type {\n",
       "        vertical-align: middle;\n",
       "    }\n",
       "\n",
       "    .dataframe tbody tr th {\n",
       "        vertical-align: top;\n",
       "    }\n",
       "\n",
       "    .dataframe thead th {\n",
       "        text-align: right;\n",
       "    }\n",
       "</style>\n",
       "<table border=\"1\" class=\"dataframe\">\n",
       "  <thead>\n",
       "    <tr style=\"text-align: right;\">\n",
       "      <th></th>\n",
       "      <th>languages</th>\n",
       "      <th>overview</th>\n",
       "      <th>position_title</th>\n",
       "      <th>clean_description</th>\n",
       "      <th>target</th>\n",
       "    </tr>\n",
       "  </thead>\n",
       "  <tbody>\n",
       "    <tr>\n",
       "      <td>1</td>\n",
       "      <td>[amazon-web-services, python, docker, kubernet...</td>\n",
       "      <td>Paige is a software company helping pathologis...</td>\n",
       "      <td>Senior Software Engineer Backend Cloud Computing</td>\n",
       "      <td>Job type Full time Experience level Senior Rol...</td>\n",
       "      <td>1</td>\n",
       "    </tr>\n",
       "    <tr>\n",
       "      <td>3</td>\n",
       "      <td>[python, javascript, reactjs, django, typescript]</td>\n",
       "      <td>About UsSimon Data was founded in by a team of...</td>\n",
       "      <td>Engineering Manager</td>\n",
       "      <td>Job type Full time Experience level Senior Man...</td>\n",
       "      <td>1</td>\n",
       "    </tr>\n",
       "    <tr>\n",
       "      <td>4</td>\n",
       "      <td>[node.js, kubernetes, microservices, typescrip...</td>\n",
       "      <td>Who is MANTL MANTL is a fast growing NYC based...</td>\n",
       "      <td>Senior Backend Engineer NYC Or Remote</td>\n",
       "      <td>Job type Full time Experience level Mid Level ...</td>\n",
       "      <td>0</td>\n",
       "    </tr>\n",
       "    <tr>\n",
       "      <td>5</td>\n",
       "      <td>[api, postgresql, scala, amazon-web-services, ...</td>\n",
       "      <td>As a SIMON Backend Engineer you will play an i...</td>\n",
       "      <td>Backend Engineer</td>\n",
       "      <td>Job type Full time Experience level Mid Level ...</td>\n",
       "      <td>0</td>\n",
       "    </tr>\n",
       "    <tr>\n",
       "      <td>6</td>\n",
       "      <td>[go, ruby, ruby-on-rails, redis, postgresql]</td>\n",
       "      <td>Gravity is looking for passionate software eng...</td>\n",
       "      <td>Software Engineer Backend NYC/LA</td>\n",
       "      <td>Job type Full time Experience level Junior Mid...</td>\n",
       "      <td>0</td>\n",
       "    </tr>\n",
       "  </tbody>\n",
       "</table>\n",
       "</div>"
      ],
      "text/plain": [
       "                                           languages  \\\n",
       "1  [amazon-web-services, python, docker, kubernet...   \n",
       "3  [python, javascript, reactjs, django, typescript]   \n",
       "4  [node.js, kubernetes, microservices, typescrip...   \n",
       "5  [api, postgresql, scala, amazon-web-services, ...   \n",
       "6       [go, ruby, ruby-on-rails, redis, postgresql]   \n",
       "\n",
       "                                            overview  \\\n",
       "1  Paige is a software company helping pathologis...   \n",
       "3  About UsSimon Data was founded in by a team of...   \n",
       "4  Who is MANTL MANTL is a fast growing NYC based...   \n",
       "5  As a SIMON Backend Engineer you will play an i...   \n",
       "6  Gravity is looking for passionate software eng...   \n",
       "\n",
       "                                     position_title  \\\n",
       "1  Senior Software Engineer Backend Cloud Computing   \n",
       "3                               Engineering Manager   \n",
       "4             Senior Backend Engineer NYC Or Remote   \n",
       "5                                  Backend Engineer   \n",
       "6                  Software Engineer Backend NYC/LA   \n",
       "\n",
       "                                   clean_description  target  \n",
       "1  Job type Full time Experience level Senior Rol...       1  \n",
       "3  Job type Full time Experience level Senior Man...       1  \n",
       "4  Job type Full time Experience level Mid Level ...       0  \n",
       "5  Job type Full time Experience level Mid Level ...       0  \n",
       "6  Job type Full time Experience level Junior Mid...       0  "
      ]
     },
     "execution_count": 644,
     "metadata": {},
     "output_type": "execute_result"
    }
   ],
   "source": [
    "final.head()"
   ]
  },
  {
   "cell_type": "code",
   "execution_count": 646,
   "metadata": {},
   "outputs": [],
   "source": [
    "# saving dataframe to csv\n",
    "# final.to_csv('job_post_dataframe.csv')"
   ]
  }
 ],
 "metadata": {
  "kernelspec": {
   "display_name": "Python 3",
   "language": "python",
   "name": "python3"
  },
  "language_info": {
   "codemirror_mode": {
    "name": "ipython",
    "version": 3
   },
   "file_extension": ".py",
   "mimetype": "text/x-python",
   "name": "python",
   "nbconvert_exporter": "python",
   "pygments_lexer": "ipython3",
   "version": "3.7.4"
  }
 },
 "nbformat": 4,
 "nbformat_minor": 2
}
